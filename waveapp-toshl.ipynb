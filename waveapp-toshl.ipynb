{
 "cells": [
  {
   "cell_type": "markdown",
   "metadata": {},
   "source": [
    "# Migration from Wave App to Toshl\n",
    "This notebook to migrate my accounting data from WaveApp (CSV) to Toshl (API)."
   ],
   "execution_count": null,
   "outputs": []
  },
  {
   "cell_type": "code",
   "execution_count": null,
   "metadata": {},
   "outputs": [],
   "source": [
    "# import the required modules\n",
    "import requests, json\n",
    "import re\n",
    "import pandas as pd\n",
    "import numpy as np"
   ]
  },
  {
   "cell_type": "code",
   "execution_count": null,
   "metadata": {},
   "outputs": [],
   "source": [
    "# enter your tokens in config.json.example and rename to config.json\n",
    "with open('config.json', 'r') as f:\n",
    "    config = json.load(f)\n",
    "\n",
    "wave_token = config['CONFIG']['WAVEAPP_TOKEN']\n",
    "toshl_token = config['CONFIG']['TOSHL_TOKEN']\n",
    "\n",
    "# replace the id with yours. You can find it in the URL when connected to WaveApp web.\n",
    "# This is useful only with you have mutli currency as the CSV only gives you the main currency.\n",
    "wave_web_account_id = config['CONFIG']['WAVEAPP_WEB_ACCOUNT_ID']"
   ]
  },
  {
   "cell_type": "markdown",
   "metadata": {},
   "source": [
    "## Connection to Wave App API\n",
    "The get transactions method isn't available in the API yet. So we will use the CSV instead.\n",
    "The code below shows how to connect to the GraphQL API from WaveApp."
   ],
   "execution_count": null,
   "outputs": []
  },
  {
   "cell_type": "code",
   "execution_count": null,
   "metadata": {
    "scrolled": true
   },
   "outputs": [],
   "source": [
    "!pip install gql"
   ]
  },
  {
   "cell_type": "code",
   "execution_count": null,
   "metadata": {},
   "outputs": [],
   "source": [
    "from gql import gql, Client\n",
    "from gql.transport.requests import RequestsHTTPTransport"
   ]
  },
  {
   "cell_type": "code",
   "execution_count": null,
   "metadata": {},
   "outputs": [],
   "source": [
    "sample_transport = RequestsHTTPTransport(\n",
    "    url = 'https://gql.waveapps.com/graphql/public',\n",
    "    use_json = True,\n",
    "    headers = {'Content-Type': 'application/json',\n",
    "               'Authorization': 'Bearer {}'.format(wave_token)},\n",
    "    verify = True\n",
    ")\n",
    "\n",
    "client = Client(\n",
    "    retries = 3,\n",
    "    transport = sample_transport,\n",
    "    fetch_schema_from_transport = True,\n",
    ")"
   ]
  },
  {
   "cell_type": "code",
   "execution_count": null,
   "metadata": {},
   "outputs": [],
   "source": [
    "query = gql('''\n",
    "\n",
    "    query {\n",
    "      businesses(page: 1, pageSize: 10) {\n",
    "        pageInfo {\n",
    "          currentPage\n",
    "          totalPages\n",
    "          totalCount\n",
    "        }\n",
    "        edges {\n",
    "          node {\n",
    "            id\n",
    "            name\n",
    "            isPersonal\n",
    "          }\n",
    "        }\n",
    "      }\n",
    "    }\n",
    "    \n",
    "''')"
   ]
  },
  {
   "cell_type": "code",
   "execution_count": null,
   "metadata": {},
   "outputs": [],
   "source": [
    "data = client.execute(query)\n",
    "\n",
    "data"
   ]
  },
  {
   "cell_type": "markdown",
   "metadata": {},
   "source": [
    "# Access token for transactions\n",
    "\n",
    "I've reverse engineered the API by checking what endpoints are invoked on the website."
   ],
   "execution_count": null,
   "outputs": []
  },
  {
   "cell_type": "code",
   "execution_count": null,
   "metadata": {
    "scrolled": false
   },
   "outputs": [],
   "source": [
    "def get_wave_web_data(account_guid, order = 'DESC'):\n",
    "\n",
    "    url = 'https://api.waveapps.com'\n",
    "    url += '/businesses/{}/transactions/latest/?account_guid={}'.format(wave_web_account_id, account_guid)\n",
    "    url += '&page_size=200&show_hidden_transactions=false&sort_order={}&include_full_transaction=false'.format(order)\n",
    "\n",
    "    headers = {'Content-Type': 'application/vnd.toshl+json',\n",
    "               'Authorization': 'Bearer {}'.format(wave_token)}\n",
    "\n",
    "    response = requests.get(url, headers=headers)\n",
    "    data = response.json()\n",
    "    df_waveapps_web = pd.DataFrame(data['latest_transactions'])\n",
    "    \n",
    "    return df_waveapps_web"
   ]
  },
  {
   "cell_type": "markdown",
   "metadata": {},
   "source": [
    "# Some data cleaning"
   ],
   "execution_count": null,
   "outputs": []
  },
  {
   "cell_type": "code",
   "execution_count": null,
   "metadata": {},
   "outputs": [],
   "source": [
    "def waveapps_web_cleaning(df):\n",
    "    df = df.drop(['is_credit_card_payment',\n",
    "                  'origin',\n",
    "                  'sequence',\n",
    "                  'tax_account_names',\n",
    "                  'transaction',\n",
    "                  'date_created',\n",
    "                  'sort_key',\n",
    "                  'transaction_guid',\n",
    "                  'transaction_status',\n",
    "                  'transaction_type',\n",
    "                  'quick_categorization',\n",
    "                  'direction',\n",
    "                  'line_item_account_names'], axis=1)\n",
    "    \n",
    "    df['account_value'] = ''\n",
    "    df['account_currency'] = ''\n",
    "    df['transaction_value'] = ''\n",
    "    df['transaction_currency'] = ''\n",
    "\n",
    "    for i in df.index:\n",
    "        df['account_value'].iloc[i] = df.transaction_total.iloc[i]['business']['value']\n",
    "        df['account_currency'].iloc[i] = df.transaction_total.iloc[i]['business']['currency']['code']\n",
    "        df['transaction_value'].iloc[i] = df.transaction_total.iloc[i]['transaction']['value']\n",
    "        df['transaction_currency'].iloc[i] = df.transaction_total.iloc[i]['transaction']['currency']['code']\n",
    "\n",
    "    df = df.drop(['transaction_total'], axis=1)\n",
    "    \n",
    "    return df"
   ]
  },
  {
   "cell_type": "markdown",
   "metadata": {},
   "source": [
    "## Toshl API"
   ],
   "execution_count": null,
   "outputs": []
  },
  {
   "cell_type": "code",
   "execution_count": null,
   "metadata": {},
   "outputs": [],
   "source": [
    "from requests.exceptions import HTTPError\n",
    "\n",
    "def get_toshl(endpoint, api_token = toshl_token):\n",
    "    api_url_base = 'https://api.toshl.com'\n",
    "    api_url = api_url_base + endpoint\n",
    "    headers = {'Content-Type': 'application/vnd.toshl+json',\n",
    "               'Authorization': 'Bearer {}'.format(api_token)}\n",
    "    \n",
    "    response = requests.get(api_url, headers=headers)\n",
    "    data = response.json()\n",
    "        \n",
    "    return data\n",
    "\n",
    "\n",
    "def post_toshl(endpoint, post_data = {}, api_token = toshl_token):\n",
    "    api_url_base = 'https://api.toshl.com'\n",
    "    api_url = api_url_base + endpoint\n",
    "    headers = {'Content-Type': 'application/vnd.toshl+json',\n",
    "               'Authorization': 'Bearer {}'.format(api_token)}\n",
    "    \n",
    "    try:\n",
    "        response = requests.post(api_url, headers=headers, json = post_data)\n",
    "\n",
    "        # If the response was successful, no Exception will be raised\n",
    "        response.raise_for_status()\n",
    "        return response.headers['Location']\n",
    "    except HTTPError as http_err:\n",
    "        print(f'\\nHTTP error occurred: {http_err}\\n')\n",
    "        print(f'Data:\\n\\n{post_data}\\n')\n",
    "        print(response.json())\n",
    "        return response.json()\n",
    "    except Exception as err:\n",
    "        print(f'Other error occurred: {err}\\n')\n",
    "        return response.json()\n",
    "    else:\n",
    "        print('Success!\\n')\n",
    "        return response.headers\n",
    "\n",
    "\n",
    "def detele_toshl(endpoint, api_token = toshl_token):\n",
    "    api_url_base = 'https://api.toshl.com'\n",
    "    api_url = api_url_base + endpoint\n",
    "    headers = {'Content-Type': 'application/vnd.toshl+json',\n",
    "               'Authorization': 'Bearer {}'.format(api_token)}\n",
    "    \n",
    "    response = requests.delete(api_url, headers=headers)\n",
    "    data = response.status_code\n",
    "        \n",
    "    return data\n",
    "\n",
    "\n",
    "def delete_all_toshl(account):\n",
    "    try:\n",
    "        df_toshl = pd.DataFrame(get_toshl(\n",
    "            '/entries?from=2018-01-01&to=2050-12-31&accounts={}&per_page=400'.format(account)))\n",
    "        for trans_id in df_toshl.id:\n",
    "            endpoint = '/entries/{}'.format(trans_id)\n",
    "            detele_toshl(endpoint)\n",
    "        print('Success.')\n",
    "    except AttributeError as attr_err:\n",
    "        print('The account is empty.')"
   ]
  },
  {
   "cell_type": "markdown",
   "metadata": {},
   "source": [
    "# Get accounts, categories, tags"
   ],
   "execution_count": null,
   "outputs": []
  },
  {
   "cell_type": "code",
   "execution_count": null,
   "metadata": {},
   "outputs": [],
   "source": [
    "toshl_accounts = pd.DataFrame(get_toshl('/accounts'))\n",
    "toshl_categories = pd.DataFrame(get_toshl('/categories'))\n",
    "toshl_tags = pd.DataFrame(get_toshl('/tags?per_page=200'))\n",
    "\n",
    "def get_account_id(name):\n",
    "    account_id = toshl_accounts.loc[toshl_accounts['name'] == name]['id'].values\n",
    "    if account_id.size == 0:\n",
    "        return 'No account with this name.'\n",
    "    else:\n",
    "        return account_id[0]\n",
    "    \n",
    "def get_category_id(name, cat_type):\n",
    "    category_id = toshl_categories.loc[(toshl_categories['name'] == name) & (toshl_categories['type'] == cat_type)]['id'].values\n",
    "    if category_id.size == 0:\n",
    "        return 'No category with this name.'\n",
    "    else:\n",
    "        return category_id[0]\n",
    "    \n",
    "def get_tag_id(name, tag_type):\n",
    "    tag_id = toshl_tags.loc[(toshl_tags['name'] == name) & (toshl_tags['type'] == tag_type)]['id'].values\n",
    "    if tag_id.size == 0:\n",
    "        return 'No tag with this name.'\n",
    "    else:\n",
    "        return tag_id[0]\n",
    "    \n",
    "def get_tags_by_category(category_id):\n",
    "    tags = toshl_tags.loc[toshl_tags['category'] == str(category_id)]['name'].values\n",
    "    if tags.size == 0:\n",
    "        return 'No tags with in this category.'\n",
    "    else:\n",
    "        return tags"
   ]
  },
  {
   "cell_type": "code",
   "execution_count": null,
   "metadata": {},
   "outputs": [],
   "source": [
    "toshl_accounts.head(3)"
   ]
  },
  {
   "cell_type": "code",
   "execution_count": null,
   "metadata": {},
   "outputs": [],
   "source": [
    "toshl_categories.head()"
   ]
  },
  {
   "cell_type": "code",
   "execution_count": null,
   "metadata": {},
   "outputs": [],
   "source": [
    "toshl_tags.head()"
   ]
  },
  {
   "cell_type": "markdown",
   "metadata": {},
   "source": [
    "# Import and clean CSV from Wave"
   ],
   "execution_count": null,
   "outputs": []
  },
  {
   "cell_type": "code",
   "execution_count": null,
   "metadata": {},
   "outputs": [],
   "source": [
    "wave_accounting = pd.read_csv('wave-accounting.csv')\n",
    "wave_accounting.head()"
   ]
  },
  {
   "cell_type": "code",
   "execution_count": null,
   "metadata": {
    "scrolled": true
   },
   "outputs": [],
   "source": [
    "# drop empty column\n",
    "wave_accounting_clean = wave_accounting.drop(wave_accounting.columns[6], axis=1)\n",
    "\n",
    "wave_accounting_clean = wave_accounting_clean.drop(['Transaction Line Description',\n",
    "                                                    'Customer',\n",
    "                                                    'Vendor',\n",
    "                                                    'Invoice Number',\n",
    "                                                    'Bill Number',\n",
    "                                                    'Debit Amount (Two Column Approach)',\n",
    "                                                    'Credit Amount (Two Column Approach)',\n",
    "                                                    'Sales Tax Amount',\n",
    "                                                    'Sales Tax Name',\n",
    "                                                    'Amount Before Sales Tax',\n",
    "                                                    'Transaction Date Added',\n",
    "                                                    'Transaction Date Last Modified',\n",
    "                                                    'Account ID'], axis=1)"
   ]
  },
  {
   "cell_type": "code",
   "execution_count": null,
   "metadata": {},
   "outputs": [],
   "source": [
    "# concat the description in one column\n",
    "for i in wave_accounting_clean.index:\n",
    "    if isinstance((wave_accounting_clean.loc[i, 'Notes / Memo']), type(str)):\n",
    "        description = wave_accounting_clean.loc[i, 'Transaction Description'] + ' / '  \\\n",
    "                    + wave_accounting_clean.loc[i, 'Notes / Memo']\n",
    "\n",
    "    else:\n",
    "        description = wave_accounting_clean.loc[i, 'Transaction Description']\n",
    "\n",
    "    wave_accounting_clean.loc[i, 'desc'] = description"
   ]
  },
  {
   "cell_type": "code",
   "execution_count": null,
   "metadata": {},
   "outputs": [],
   "source": [
    "wave_accounting_clean = wave_accounting_clean.drop(['Notes / Memo',\n",
    "                                                    'Account Type'], axis=1)\n",
    "wave_accounting_clean = wave_accounting_clean.rename(columns = {'Other Accounts for this Transaction':'category'})"
   ]
  },
  {
   "cell_type": "code",
   "execution_count": null,
   "metadata": {},
   "outputs": [],
   "source": [
    "wave_accounting_clean.head()"
   ]
  },
  {
   "cell_type": "code",
   "execution_count": null,
   "metadata": {},
   "outputs": [],
   "source": [
    "print('Before cleaning: {} rows and {} columns'.format(wave_accounting_clean.shape[0],\n",
    "                                                       wave_accounting_clean.shape[1]))\n",
    "\n",
    "# name of the DataFrame\n",
    "df = pd.DataFrame(wave_accounting_clean)\n",
    "\n",
    "get_trans_id = lambda i : df.iloc[i].at['Transaction ID']\n",
    "get_trans_amt = lambda i : abs(df.iloc[i].at['Amount (One column)'])\n",
    "def count_transaction_id(index):\n",
    "    return len(df[df['Transaction ID'] == get_trans_id(index)])\n",
    "\n",
    "# create a new column\n",
    "df['split'] = ''\n",
    "\n",
    "# adapt the amount for credit cards\n",
    "for i in df.index:\n",
    "    if df['Account Group'].loc[i] == 'Liability':\n",
    "        df.loc[i, 'Amount (One column)'] = np.negative(df.loc[i, 'Amount (One column)'])\n",
    "\n",
    "i = 0\n",
    "while i < df.shape[0]-1:\n",
    "    # try if index exists\n",
    "    try:\n",
    "        # if same transaction and same amount\n",
    "        if get_trans_id(i) == get_trans_id(i+1) and get_trans_amt(i) == get_trans_amt(i+1):\n",
    "            df = df.drop([df.iloc[i+1].name])\n",
    "            i += 1\n",
    "\n",
    "        # if split transaction\n",
    "        elif count_transaction_id(i) > 2:\n",
    "            # change category name\n",
    "            df.loc[df.iloc[i].name, 'category'] = 'Split'\n",
    "            df.iat[i, -1] = {}\n",
    "            ii = i + 1\n",
    "            while get_trans_id(i) == get_trans_id(ii):\n",
    "                # deal with sub transactions\n",
    "                # if credit card transaction\n",
    "                if df.iloc[i].at['Account Group'] == 'Liability':\n",
    "                    df.iat[i, -1][df.iloc[ii].at['Account Name']] = np.negative(df.iloc[ii].at['Amount (One column)'])\n",
    "                else:\n",
    "                    df.iat[i, -1][df.iloc[ii].at['Account Name']] = df.iloc[ii].at['Amount (One column)']\n",
    "                        \n",
    "                # adapt correct amount\n",
    "                if float(df.iloc[i].at['Amount (One column)']) < 0:\n",
    "                    df.iat[i, -1][df.iloc[ii].at['Account Name']]= np.negative(\n",
    "                        abs(float(df.iloc[ii].at['Amount (One column)'])))\n",
    "                else:\n",
    "                    df.iat[i, -1][df.iloc[ii].at['Account Name']] = abs(float(df.iloc[ii].at['Amount (One column)']))\n",
    "            \n",
    "                df = df.drop([df.iloc[ii].name])\n",
    "\n",
    "        # check if transfer clearning \n",
    "        elif get_trans_id(i) == get_trans_id(i+1) \\\n",
    "        and get_trans_amt(i) != get_trans_amt(i+1) \\\n",
    "        and count_transaction_id(i) == 2 \\\n",
    "        and df.iloc[i+1].at['category'] == 'Transfer Clearing':\n",
    "            df = df.drop([df.iloc[i+1].name])\n",
    "            i += 1\n",
    "\n",
    "        else:\n",
    "            i += 1\n",
    "            \n",
    "    except IndexError:\n",
    "        break\n",
    "        \n",
    "        \n",
    "print('After cleaning: {} rows and {} columns'.format(df.shape[0], df.shape[1]))\n",
    "            \n",
    "df.head()"
   ]
  },
  {
   "cell_type": "code",
   "execution_count": null,
   "metadata": {},
   "outputs": [],
   "source": [
    "%config InlineBackend.figure_format = 'retina'\n",
    "print(df['Account Name'].value_counts())"
   ]
  },
  {
   "cell_type": "code",
   "execution_count": null,
   "metadata": {},
   "outputs": [],
   "source": [
    "df['Account Name'].value_counts().plot.bar(rot=45);"
   ]
  },
  {
   "cell_type": "code",
   "execution_count": null,
   "metadata": {
    "scrolled": true
   },
   "outputs": [],
   "source": [
    "df.loc[df['Account Name'] == 'Transfer Clearing']"
   ]
  },
  {
   "cell_type": "code",
   "execution_count": null,
   "metadata": {},
   "outputs": [],
   "source": [
    "ids = df[\"Transaction ID\"]\n",
    "df[ids.isin(ids[ids.duplicated()])]"
   ]
  },
  {
   "cell_type": "markdown",
   "metadata": {},
   "source": [
    "# Map new category\n",
    "\n",
    "Choose the categories that fit the best."
   ],
   "execution_count": null,
   "outputs": []
  },
  {
   "cell_type": "code",
   "execution_count": null,
   "metadata": {
    "scrolled": false
   },
   "outputs": [],
   "source": [
    "# Choose either income or expense\n",
    "category_tag_type = 'income'\n",
    "\n",
    "print('{} categories:\\n'.format(category_tag_type))\n",
    "for category in toshl_categories[toshl_categories['type'] == category_tag_type]['name'].values:\n",
    "    print(category)"
   ]
  },
  {
   "cell_type": "code",
   "execution_count": null,
   "metadata": {},
   "outputs": [],
   "source": [
    "# Change with the category you want to see the tags\n",
    "category = 'Salary'\n",
    "\n",
    "for tag in get_tags_by_category(get_category_id(category, category_tag_type)):\n",
    "    print(tag)"
   ]
  },
  {
   "cell_type": "code",
   "execution_count": null,
   "metadata": {},
   "outputs": [],
   "source": [
    "categories = {'Restaurants, Coffee & Bars': {'category' : 'Food & Drinks',\n",
    "                                             'tags': ['bar', 'coffee & tea', 'restaurants']},\n",
    "            'Groceries': {'category' : 'Food & Drinks',\n",
    "                          'tags': ['groceries']},\n",
    "            'Travel & Vacation': {'category' : 'Leisure',\n",
    "                                  'tags': ['travel']},\n",
    "            'Rental Car & Taxi': {'category' : 'Transport',\n",
    "                                  'tags': ['rental', 'taxi']},\n",
    "            'Gym, Sports & Recreation': {'category' : 'Sports',\n",
    "                                         'tags': []},\n",
    "            'Vehicle – Fuel': {'category' : 'Transport',\n",
    "                               'tags': ['fuel']},\n",
    "            'Alcohol & Tobacco': {'category' : 'Food & Drinks',\n",
    "                                  'tags': ['alcohol']},\n",
    "            'Public Transportation': {'category' : 'Transport',\n",
    "                                      'tags': ['public transport']},\n",
    "            'Grooming & Beauty': {'category' : 'Health & Personal Care',\n",
    "                                  'tags': []},\n",
    "            'Accounts Payable': {'category' : 'Loans',\n",
    "                                 'tags': ['payable']},\n",
    "            'Mortgage or Rent': {'category' : 'Home & Utilities',\n",
    "                                 'tags': ['rent']},\n",
    "            'Pharmacy & Prescriptions': {'category' : 'Health & Personal Care',\n",
    "                                         'tags': ['medicine']},\n",
    "            'Entertainment': {'category' : 'Leisure',\n",
    "                              'tags': []},\n",
    "            'Cleaning': {'category' : 'Home & Utilities',\n",
    "                         'tags': []},\n",
    "            'Mobile Phone': {'category' : 'Home & Utilities',\n",
    "                             'tags': ['mobile phone']},\n",
    "            'Other Transportation': {'category' : 'Transport',\n",
    "                                     'tags': []},\n",
    "            'Utilities': {'category' : 'Home & Utilities',\n",
    "                          'tags': []},\n",
    "            'Owner Investment / Drawings': {'category' : 'Loans',\n",
    "                                            'tags': ['owner investment']},\n",
    "            'Vehicle – Repairs & Maintenance': {'category' : 'Transport',\n",
    "                                                'tags': ['servicing']},\n",
    "            'Transfer Clearing': {'category' : 'Transfer',\n",
    "                                  'tags': []},\n",
    "            'Bank & Credit Card Fees': {'category' : 'Other',\n",
    "                                        'tags': ['bank fees']},\n",
    "            'Personal Items': {'category' : 'Clothing & Footwear',\n",
    "                               'tags': []},\n",
    "            'Accounts Receivable': {'category' : 'Loans',\n",
    "                                    'tags': ['receivable']},\n",
    "            'Split': {'category' : 'Other',\n",
    "                      'tags': []},\n",
    "            'Doctor, Dentist, etc.': {'category' : 'Health & Personal Care',\n",
    "                                      'tags': ['medical services']},\n",
    "            'Internet': {'category' : 'Home & Utilities',\n",
    "                         'tags': ['internet']},\n",
    "            'Gifts': {'category' : 'Gifts',\n",
    "                      'tags': []},\n",
    "            'Insurance – Property': {'category' : 'Home & Utilities',\n",
    "                                     'tags': ['insurance']},\n",
    "            'Books, Music, Movies & DVDs': {'category' : 'Leisure',\n",
    "                                            'tags': ['music', 'books']},\n",
    "            'Insurance – Health': {'category' : 'Health & Personal Care',\n",
    "                                   'tags': ['insurance']},\n",
    "            'Miscellaneous Expense': {'category' : 'Other',\n",
    "                                      'tags': []},\n",
    "            'Military taxe': {'category' : 'Taxes',\n",
    "                              'tags': ['military tax']},\n",
    "            'Parking': {'category' : 'Transport',\n",
    "                        'tags': ['parking']},\n",
    "            'Furniture & Electronics': {'category' : 'Home & Utilities',\n",
    "                                        'tags': []},\n",
    "            'Personal Net Worth': {'category' : 'Other',\n",
    "                                   'tags': []},\n",
    "            'Home Phone': {'category' : 'Home & Utilities',\n",
    "                           'tags': ['phone']},\n",
    "            'Subscriptions': {'category' : 'Leisure',\n",
    "                              'tags': ['subscriptions']},\n",
    "            'Donations': {'category' : 'Charity',\n",
    "                          'tags': []},\n",
    "            'Clothes': {'category' : 'Clothing & Footwear',\n",
    "                        'tags': []},\n",
    "            'Home Improvement & Maintenance': {'category' : 'Home & Utilities',\n",
    "                                               'tags': ['home improvement']}\n",
    "             }"
   ]
  },
  {
   "cell_type": "code",
   "execution_count": null,
   "metadata": {},
   "outputs": [],
   "source": [
    "categories_income = {'Transfer Clearing': {'category' : 'Transfer',\n",
    "                                           'tags': []},\n",
    "                     'Restaurants, Coffee & Bars': {'category' : 'Reimbursements',\n",
    "                                                    'tags': []},\n",
    "                     'Accounts Payable': {'category' : 'Loans',\n",
    "                                          'tags': ['payable']},\n",
    "                     'Travel & Vacation': {'category' : 'Reimbursements',\n",
    "                                           'tags': []},\n",
    "                     'Accounts Receivable': {'category' : 'Loans',\n",
    "                                             'tags': ['receivable']},\n",
    "                     'Personal Net Worth': {'category' : 'Other',\n",
    "                                            'tags': []},\n",
    "                     'Entertainment': {'category' : 'Reimbursements',\n",
    "                                       'tags': []},\n",
    "                     'Rental Car & Taxi': {'category' : 'Reimbursements',\n",
    "                                           'tags': []},\n",
    "                     'Owner Investment / Drawings': {'category' : 'Loans',\n",
    "                                                    'tags': ['owner investment']},\n",
    "                     'Income & Bonuses': {'category' : 'Salary',\n",
    "                                          'tags': []},\n",
    "                     'Interest Income': {'category' : 'Other',\n",
    "                                         'tags': ['interest']},\n",
    "                     'Bank & Credit Card Fees': {'category' : 'Reimbursements',\n",
    "                                                 'tags': []},\n",
    "                     'Gain on Foreign Exchange': {'category' : 'Other',\n",
    "                                                  'tags': []},\n",
    "                     'Mortgage or Rent': {'category' : 'Reimbursements',\n",
    "                                          'tags': []},\n",
    "                     'Alcohol & Tobacco': {'category' : 'Reimbursements',\n",
    "                                           'tags': []},\n",
    "                     'Split': {'category' : 'Other',\n",
    "                               'tags': []},\n",
    "                     'Insurance – Health': {'category' : 'Reimbursements',\n",
    "                                            'tags': []},\n",
    "                     'Subscriptions': {'category' : 'Reimbursements',\n",
    "                                       'tags': []}\n",
    "                    }"
   ]
  },
  {
   "cell_type": "code",
   "execution_count": null,
   "metadata": {
    "scrolled": true
   },
   "outputs": [],
   "source": [
    "category_tag_type = 'expense'\n",
    "category = 'Home & Utilities'\n",
    "tag = 'home improvement'\n",
    "\n",
    "print('The category \"{}\" has the ID {}.'.format(category, get_category_id(category, category_tag_type)))\n",
    "print('The tag \"{}\" has the ID {}.'.format(tag, get_tag_id(tag, category_tag_type)))"
   ]
  },
  {
   "cell_type": "code",
   "execution_count": null,
   "metadata": {},
   "outputs": [],
   "source": [
    "def convert_categories_to_id(categ_dict, categ_type):\n",
    "    for category in categ_dict:\n",
    "        categ_dict[category]['category'] = get_category_id(categ_dict[category]['category'], categ_type)\n",
    "        if categ_dict[category]['tags']:\n",
    "            for i in range(len(categ_dict[category]['tags'])):\n",
    "                categ_dict[category]['tags'][i] = get_tag_id(categ_dict[category]['tags'][i], categ_type)\n",
    "\n",
    "    return categ_dict"
   ]
  },
  {
   "cell_type": "code",
   "execution_count": null,
   "metadata": {},
   "outputs": [],
   "source": [
    "categories = convert_categories_to_id(categories, 'expense')\n",
    "categories"
   ]
  },
  {
   "cell_type": "code",
   "execution_count": null,
   "metadata": {},
   "outputs": [],
   "source": [
    "categories_income = convert_categories_to_id(categories_income, 'income')\n",
    "categories_income"
   ]
  },
  {
   "cell_type": "code",
   "execution_count": null,
   "metadata": {},
   "outputs": [],
   "source": [
    "# Explore category\n",
    "print(toshl_categories[toshl_categories['id'] == '53595248'].type.values)\n",
    "\n",
    "# Explore tag\n",
    "print(toshl_tags[toshl_tags['id'] == '53595248'].type.values)"
   ]
  },
  {
   "cell_type": "code",
   "execution_count": null,
   "metadata": {},
   "outputs": [],
   "source": [
    "def check_missing_category(df):\n",
    "    df_income = df[df['Amount (One column)'] > 0]\n",
    "    df_expense = df[df['Amount (One column)'] < 0]\n",
    "    df_income_split = df[(df['split'] != '') & (df['Amount (One column)'] > 0)]\n",
    "    df_expense_split = df[(df['split'] != '') & (df['Amount (One column)'] < 0)]\n",
    "    set_income = set()\n",
    "    set_expense = set()\n",
    "\n",
    "    # loop income categories from transactions\n",
    "    for key in df_income['category'].value_counts().to_dict():\n",
    "        if key not in categories_income:\n",
    "            set_income.add(key)\n",
    "    \n",
    "    # loop expense categories from transactions\n",
    "    for key in df_expense['category'].value_counts().to_dict():\n",
    "        if key not in categories:\n",
    "            set_expense.add(key)\n",
    "    \n",
    "    # loop income categories from split transactions\n",
    "    print('\\nIncome categories to map:\\n')\n",
    "    for i in df_income_split.index:\n",
    "        for key in df.loc[i, 'split']:\n",
    "            if key not in categories_income:\n",
    "                set_income.add(key)\n",
    "    for i in set_income:\n",
    "        print(i)\n",
    "    \n",
    "    # loop expense categories from split transactions\n",
    "    print('\\nExpense categories to map:\\n')\n",
    "    for i in df_expense_split.index:\n",
    "        for key in df.loc[i, 'split']:\n",
    "            if key not in categories:\n",
    "                set_expense.add(key)\n",
    "    for i in set_expense:\n",
    "        print(i)"
   ]
  },
  {
   "cell_type": "code",
   "execution_count": null,
   "metadata": {},
   "outputs": [],
   "source": [
    "def upload_to_toshl(dataframe, account_id, currency_code):\n",
    "\n",
    "    for i in dataframe.index:\n",
    "\n",
    "        amount = dataframe.loc[i, 'Amount (One column)']\n",
    "        currency = {'code' : currency_code}\n",
    "        date = dataframe.loc[i, 'Transaction Date']\n",
    "        desc = dataframe.loc[i, 'desc']\n",
    "        \n",
    "        # if it's an income\n",
    "        if float(amount) > 0:\n",
    "            category = categories_income[dataframe.loc[i, 'category']]\n",
    "        else:\n",
    "            category = categories[dataframe.loc[i, 'category']]\n",
    "\n",
    "        data = {\n",
    "            'amount': amount,\n",
    "            'currency': currency,\n",
    "            'date': date,\n",
    "            'desc': desc,\n",
    "            'account': account_id,\n",
    "            'category': category['category']\n",
    "        }\n",
    "        \n",
    "        \n",
    "        # if tags existing, add it to the upload\n",
    "        if category['tags']:\n",
    "            data['tags'] = category['tags']\n",
    "            \n",
    "        # if split transaction\n",
    "        if dataframe.loc[i, 'split'] != '':\n",
    "            # post parent transaction\n",
    "            parent = post_toshl('/entries', data)\n",
    "            parent_id = re.findall(r'\\d+', parent)[0]\n",
    "            \n",
    "            for key in dataframe.loc[i, 'split']:\n",
    "                \n",
    "                amount = dataframe.loc[i, 'split'][key]\n",
    "                data['amount'] = amount\n",
    "                \n",
    "                # if it's an income\n",
    "                if float(amount) > 0:\n",
    "                    category = categories_income[key]\n",
    "                else:\n",
    "                    category = categories[key]\n",
    "                    \n",
    "                data['category'] = category['category']\n",
    "                \n",
    "                # if tags exists, add it to the upload\n",
    "                if category['tags']:\n",
    "                    data['tags'] = category['tags']\n",
    "                else:\n",
    "                    if 'tags' in data:\n",
    "                        del data['tags']\n",
    "                \n",
    "                data['split'] = {'parent' : parent_id}\n",
    "                \n",
    "                post_toshl('/entries', data) \n",
    "                \n",
    "        else:\n",
    "            post_toshl('/entries', data) "
   ]
  },
  {
   "cell_type": "code",
   "execution_count": null,
   "metadata": {},
   "outputs": [],
   "source": [
    "def merge_data(df1, df2):\n",
    "    \n",
    "    df1['abs_transaction'] = 0\n",
    "    \n",
    "    for i in df1.index:\n",
    "        df1.loc[i, 'abs_transaction'] = abs(float(df1.loc[i, 'Amount (One column)']))\n",
    "    \n",
    "    df2 = df2.astype({'account_value': float})\n",
    "    \n",
    "    new_df = pd.merge(df1, df2,  how='left', left_on=['Transaction Date','Transaction Description', 'abs_transaction'],\n",
    "                                             right_on = ['transaction_date','transaction_description', 'account_value'])\n",
    "    \n",
    "    new_df = new_df.drop(['abs_transaction'], axis=1)\n",
    "    \n",
    "    print('After merging: {} rows and {} columns'.format(new_df.shape[0], new_df.shape[1]))\n",
    "    \n",
    "    return new_df"
   ]
  },
  {
   "cell_type": "code",
   "execution_count": null,
   "metadata": {
    "scrolled": true
   },
   "outputs": [],
   "source": [
    "def cleaning_merge_data(df):\n",
    "    get_trans_id = lambda i : df.iloc[i].at['Transaction ID']\n",
    "    get_trans_amt = lambda i : abs(df.iloc[i].at['Amount (One column)'])\n",
    "    def count_transaction_id(index):\n",
    "        return len(df[df['Transaction ID'] == get_trans_id(index)])\n",
    "\n",
    "    i = 0\n",
    "    while i < df.shape[0]-1:\n",
    "        # if same transaction and same amount\n",
    "        if get_trans_id(i) == get_trans_id(i+1) and get_trans_amt(i) == get_trans_amt(i+1):\n",
    "            df = df.drop([df.iloc[i+1].name])\n",
    "            i += 1\n",
    "        else:\n",
    "            i += 1\n",
    "\n",
    "    print('After cleaning: {} rows and {} columns'.format(df.shape[0], df.shape[1]))\n",
    "    \n",
    "    return df"
   ]
  },
  {
   "cell_type": "code",
   "execution_count": null,
   "metadata": {
    "scrolled": false
   },
   "outputs": [],
   "source": [
    "def drop_clean_data(df):\n",
    "    for i in df.index:\n",
    "        # if income\n",
    "        if float(df.loc[i, 'Amount (One column)']) > 0:\n",
    "            df.loc[i, 'Amount (One column)'] = df.transaction_value.loc[i]\n",
    "        # if expense\n",
    "        else:\n",
    "            df.loc[i, 'Amount (One column)'] = '-'  + str(df.transaction_value.loc[i])\n",
    "\n",
    "        if df.loc[i, 'split'] != '':\n",
    "            currency_rate = (float(df.transaction_value.loc[i]) / float(df.account_value.loc[i]))\n",
    "            if currency_rate < 1:\n",
    "                currency_rate = (float(df.account_value.loc[i]) / float(df.transaction_value.loc[i]))\n",
    "            for key in df.loc[i, 'split']:\n",
    "                df.loc[i, 'split'][key] = round(float(df.loc[i, 'split'][key]) * currency_rate, 2)\n",
    "\n",
    "    df = df.drop(['Transaction Description',\n",
    "                  'anchor_account_name',\n",
    "                  'transaction_date',\n",
    "                  'transaction_description',\n",
    "                  'account_value',\n",
    "                  'account_currency',\n",
    "                  'transaction_currency',\n",
    "                  'transaction_value'], axis=1)\n",
    "    return df"
   ]
  },
  {
   "cell_type": "code",
   "execution_count": null,
   "metadata": {},
   "outputs": [],
   "source": [
    "def check_size_data(df1, df2):\n",
    "    df1.shape[0]\n",
    "    df2.shape[0]\n",
    "    \n",
    "    if df1.shape[0] == df2.shape[0]:\n",
    "        print('Success. Same size as {}'.format(df1.shape[0]))\n",
    "    else:\n",
    "        print('Error. Size of {} and {}.'.format(df1.shape[0], df2.shape[0]))"
   ]
  },
  {
   "cell_type": "markdown",
   "metadata": {},
   "source": [
    "# To repeat for every account"
   ],
   "execution_count": null,
   "outputs": []
  },
  {
   "cell_type": "code",
   "execution_count": null,
   "metadata": {},
   "outputs": [],
   "source": [
    "print(df['Account Name'].value_counts())"
   ]
  },
  {
   "cell_type": "code",
   "execution_count": null,
   "metadata": {
    "scrolled": true
   },
   "outputs": [],
   "source": [
    "df_to_upload = df.loc[df['Account Name'] == 'Cash on Hand - CHF']\n",
    "df_to_upload"
   ]
  },
  {
   "cell_type": "code",
   "execution_count": null,
   "metadata": {
    "scrolled": false
   },
   "outputs": [],
   "source": [
    "check_missing_category(df_to_upload)"
   ]
  },
  {
   "cell_type": "markdown",
   "metadata": {},
   "source": [
    "# If currency is not Euro"
   ],
   "execution_count": null,
   "outputs": []
  },
  {
   "cell_type": "code",
   "execution_count": null,
   "metadata": {},
   "outputs": [],
   "source": [
    "web_wave_guid_account = '721580773001422957' # replace with guid of the wave web acccount\n",
    "df_waveapps_web = get_wave_web_data(web_wave_guid_account)"
   ]
  },
  {
   "cell_type": "code",
   "execution_count": null,
   "metadata": {
    "scrolled": true
   },
   "outputs": [],
   "source": [
    "check_size_data(df_to_upload, df_waveapps_web)"
   ]
  },
  {
   "cell_type": "markdown",
   "metadata": {},
   "source": [
    "### ---\n",
    "### if not the same because sample too small:"
   ],
   "execution_count": null,
   "outputs": []
  },
  {
   "cell_type": "code",
   "execution_count": null,
   "metadata": {},
   "outputs": [],
   "source": [
    "df_waveapps_web_2 = get_wave_web_data(web_wave_guid_account, order = 'ASC')"
   ]
  },
  {
   "cell_type": "code",
   "execution_count": null,
   "metadata": {},
   "outputs": [],
   "source": [
    "new_df = pd.concat([df_waveapps_web, df_waveapps_web_2], ignore_index=True)\n",
    "\n",
    "new_df = new_df.drop_duplicates(subset = 'transaction_guid')"
   ]
  },
  {
   "cell_type": "code",
   "execution_count": null,
   "metadata": {},
   "outputs": [],
   "source": [
    "df_waveapps_web = new_df\n",
    "check_size_data(df_to_upload, df_waveapps_web)"
   ]
  },
  {
   "cell_type": "markdown",
   "metadata": {},
   "source": [
    "### ---"
   ],
   "execution_count": null,
   "outputs": []
  },
  {
   "cell_type": "code",
   "execution_count": null,
   "metadata": {},
   "outputs": [],
   "source": [
    "df_waveapps_web = waveapps_web_cleaning(df_waveapps_web)"
   ]
  },
  {
   "cell_type": "code",
   "execution_count": null,
   "metadata": {
    "scrolled": true
   },
   "outputs": [],
   "source": [
    "new_df = merge_data(df_to_upload, df_waveapps_web)"
   ]
  },
  {
   "cell_type": "code",
   "execution_count": null,
   "metadata": {},
   "outputs": [],
   "source": [
    "clean_new_df = cleaning_merge_data(new_df)"
   ]
  },
  {
   "cell_type": "code",
   "execution_count": null,
   "metadata": {},
   "outputs": [],
   "source": [
    "df_to_upload = drop_clean_data(clean_new_df)"
   ]
  },
  {
   "cell_type": "markdown",
   "metadata": {},
   "source": [
    "# Do the upload"
   ],
   "execution_count": null,
   "outputs": []
  },
  {
   "cell_type": "code",
   "execution_count": null,
   "metadata": {
    "scrolled": true
   },
   "outputs": [],
   "source": [
    "df_to_upload"
   ]
  },
  {
   "cell_type": "code",
   "execution_count": null,
   "metadata": {},
   "outputs": [],
   "source": [
    "for i in toshl_accounts.index:\n",
    "    print(f'Toshl {toshl_accounts.id.iloc[i]} : {toshl_accounts.name.iloc[i]}')"
   ]
  },
  {
   "cell_type": "code",
   "execution_count": null,
   "metadata": {},
   "outputs": [],
   "source": [
    "df_to_push = df_to_upload\n",
    "remote_account_id = 00000 # replace with the toshl account ID\n",
    "currency_code = 'CHF'"
   ]
  },
  {
   "cell_type": "code",
   "execution_count": null,
   "metadata": {
    "scrolled": true
   },
   "outputs": [],
   "source": [
    "upload_to_toshl(df_to_push, remote_account_id, currency_code)"
   ]
  },
  {
   "cell_type": "code",
   "execution_count": null,
   "metadata": {},
   "outputs": [],
   "source": [
    "df_toshl = pd.DataFrame(get_toshl(\n",
    "    '/entries?from=2017-03-04&to=2023-03-07&accounts={}&per_page=400'.format(remote_account_id)))\n",
    "\n",
    "number_transactions = df_to_push.shape[0]\n",
    "for i in df_to_push[df_to_push['split'] != ''].index:\n",
    "    for key in df_to_push[df_to_push['split'] != ''].loc[i, 'split']:\n",
    "        number_transactions += 1\n",
    "    number_transactions -= 1\n",
    "\n",
    "if df_to_push.shape[0] == df_toshl.shape[0]:\n",
    "    print('Success. Same number of rows. No split transactions.')\n",
    "elif number_transactions == df_toshl.shape[0]:\n",
    "    print('Success. Same number of rows with split transactions. {} transactions.'.format(number_transactions))\n",
    "elif df_toshl.shape[0] == 0:\n",
    "    print('Remote account empty.')\n",
    "else: print('Error. Number of row do not match.')\n",
    "    \n",
    "df_toshl.head()"
   ]
  },
  {
   "cell_type": "code",
   "execution_count": null,
   "metadata": {},
   "outputs": [],
   "source": [
    "# df_toshl.to_csv('backup-toshl.csv')"
   ]
  },
  {
   "cell_type": "markdown",
   "metadata": {},
   "source": [
    "# If needed, empty the remote account"
   ],
   "execution_count": null,
   "outputs": []
  },
  {
   "cell_type": "code",
   "execution_count": null,
   "metadata": {},
   "outputs": [],
   "source": [
    "delete_all_toshl(remote_account_id)"
   ]
  }
 ],
 "metadata": {
  "kernelspec": {
   "display_name": "Python 3",
   "language": "python",
   "name": "python3"
  },
  "language_info": {
   "codemirror_mode": {
    "name": "ipython",
    "version": 3
   },
   "file_extension": ".py",
   "mimetype": "text/x-python",
   "name": "python",
   "nbconvert_exporter": "python",
   "pygments_lexer": "ipython3",
   "version": "3.7.3-final"
  }
 },
 "nbformat": 4,
 "nbformat_minor": 4
}